{
 "cells": [
  {
   "cell_type": "markdown",
   "metadata": {},
   "source": [
    "# Continuous Control\n",
    "\n",
    "---\n",
    "\n",
    "You are welcome to use this coding environment to train your agent for the project.  Follow the instructions below to get started!\n",
    "\n",
    "### 1. Start the Environment\n",
    "\n",
    "We begin by importing the necessary packages. If the code cell below returns an error, please revisit the project instructions to double-check that you have installed Unity ML-Agents and NumPy."
   ]
  },
  {
   "cell_type": "code",
   "execution_count": 1,
   "metadata": {},
   "outputs": [],
   "source": [
    "from unityagents import UnityEnvironment\n",
    "import numpy as np"
   ]
  },
  {
   "cell_type": "markdown",
   "metadata": {},
   "source": [
    "The environments corresponding to both versions of the environment are already saved in the Workspace and can be accessed at the file paths provided below.  \n",
    "\n",
    "Please select one of the two options below for loading the environment."
   ]
  },
  {
   "cell_type": "code",
   "execution_count": 2,
   "metadata": {},
   "outputs": [
    {
     "name": "stderr",
     "output_type": "stream",
     "text": [
      "INFO:unityagents:\n",
      "'Academy' started successfully!\n",
      "Unity Academy name: Academy\n",
      "        Number of Brains: 1\n",
      "        Number of External Brains : 1\n",
      "        Lesson number : 0\n",
      "        Reset Parameters :\n",
      "\t\tgoal_speed -> 1.0\n",
      "\t\tgoal_size -> 5.0\n",
      "Unity brain name: ReacherBrain\n",
      "        Number of Visual Observations (per agent): 0\n",
      "        Vector Observation space type: continuous\n",
      "        Vector Observation space size (per agent): 33\n",
      "        Number of stacked Vector Observation: 1\n",
      "        Vector Action space type: continuous\n",
      "        Vector Action space size (per agent): 4\n",
      "        Vector Action descriptions: , , , \n"
     ]
    }
   ],
   "source": [
    "# select this option to load version 1 (with a single agent) of the environment\n",
    "# env = UnityEnvironment(file_name='Reacher.app')\n",
    "env = UnityEnvironment(file_name='./Reacher_Windows_x86_64/Reacher.exe')\n",
    "\n",
    "# select this option to load version 2 (with 20 agents) of the environment\n",
    "# env = UnityEnvironment(file_name='Reachers.app')"
   ]
  },
  {
   "cell_type": "markdown",
   "metadata": {},
   "source": [
    "Environments contain **_brains_** which are responsible for deciding the actions of their associated agents. Here we check for the first brain available, and set it as the default brain we will be controlling from Python."
   ]
  },
  {
   "cell_type": "code",
   "execution_count": 3,
   "metadata": {},
   "outputs": [],
   "source": [
    "# get the default brain\n",
    "brain_name = env.brain_names[0]\n",
    "brain = env.brains[brain_name]"
   ]
  },
  {
   "cell_type": "markdown",
   "metadata": {},
   "source": [
    "### 2. Examine the State and Action Spaces\n",
    "\n",
    "Run the code cell below to print some information about the environment."
   ]
  },
  {
   "cell_type": "code",
   "execution_count": 4,
   "metadata": {},
   "outputs": [
    {
     "name": "stdout",
     "output_type": "stream",
     "text": [
      "Number of agents: 20\n",
      "Size of each action: 4\n",
      "There are 20 agents. Each observes a state with length: 33\n",
      "The state for the first agent looks like: [ 0.00000000e+00 -4.00000000e+00  0.00000000e+00  1.00000000e+00\n",
      " -0.00000000e+00 -0.00000000e+00 -4.37113883e-08  0.00000000e+00\n",
      "  0.00000000e+00  0.00000000e+00  0.00000000e+00  0.00000000e+00\n",
      "  0.00000000e+00  0.00000000e+00 -1.00000000e+01  0.00000000e+00\n",
      "  1.00000000e+00 -0.00000000e+00 -0.00000000e+00 -4.37113883e-08\n",
      "  0.00000000e+00  0.00000000e+00  0.00000000e+00  0.00000000e+00\n",
      "  0.00000000e+00  0.00000000e+00  5.75471878e+00 -1.00000000e+00\n",
      "  5.55726624e+00  0.00000000e+00  1.00000000e+00  0.00000000e+00\n",
      " -1.68164849e-01]\n"
     ]
    }
   ],
   "source": [
    "# reset the environment\n",
    "env_info = env.reset(train_mode=True)[brain_name]\n",
    "\n",
    "# number of agents\n",
    "num_agents = len(env_info.agents)\n",
    "print('Number of agents:', num_agents)\n",
    "\n",
    "# size of each action\n",
    "action_size = brain.vector_action_space_size\n",
    "print('Size of each action:', action_size)\n",
    "\n",
    "# examine the state space \n",
    "states = env_info.vector_observations\n",
    "state_size = states.shape[1]\n",
    "print('There are {} agents. Each observes a state with length: {}'.format(states.shape[0], state_size))\n",
    "print('The state for the first agent looks like:', states[0])"
   ]
  },
  {
   "cell_type": "markdown",
   "metadata": {},
   "source": [
    "### 3. Take Random Actions in the Environment\n",
    "\n",
    "In the next code cell, you will learn how to use the Python API to control the agent and receive feedback from the environment.\n",
    "\n",
    "Note that **in this coding environment, you will not be able to watch the agents while they are training**, and you should set `train_mode=True` to restart the environment."
   ]
  },
  {
   "cell_type": "code",
   "execution_count": 5,
   "metadata": {},
   "outputs": [],
   "source": [
    "# env_info = env.reset(train_mode=True)[brain_name]      # reset the environment    \n",
    "# states = env_info.vector_observations                  # get the current state (for each agent)\n",
    "# scores = np.zeros(num_agents)                          # initialize the score (for each agent)\n",
    "# while True:\n",
    "#     actions = np.random.randn(num_agents, action_size) # select an action (for each agent)\n",
    "#     actions = np.clip(actions, -1, 1)                  # all actions between -1 and 1\n",
    "#     env_info = env.step(actions)[brain_name]           # send all actions to tne environment\n",
    "#     next_states = env_info.vector_observations         # get next state (for each agent)\n",
    "#     rewards = env_info.rewards                         # get reward (for each agent)\n",
    "#     dones = env_info.local_done                        # see if episode finished\n",
    "#     scores += env_info.rewards                         # update the score (for each agent)\n",
    "#     states = next_states                               # roll over states to next time step\n",
    "#     if np.any(dones):                                  # exit loop if episode finished\n",
    "#         break\n",
    "# print('Total score (averaged over agents) this episode: {}'.format(np.mean(scores)))"
   ]
  },
  {
   "cell_type": "markdown",
   "metadata": {},
   "source": [
    "When finished, you can close the environment."
   ]
  },
  {
   "cell_type": "code",
   "execution_count": 6,
   "metadata": {},
   "outputs": [],
   "source": [
    "# env.close()"
   ]
  },
  {
   "cell_type": "markdown",
   "metadata": {},
   "source": [
    "### 4. It's Your Turn!\n",
    "\n",
    "Now it's your turn to train your own agent to solve the environment!  A few **important notes**:\n",
    "- When training the environment, set `train_mode=True`, so that the line for resetting the environment looks like the following:\n",
    "```python\n",
    "env_info = env.reset(train_mode=True)[brain_name]\n",
    "```\n",
    "- To structure your work, you're welcome to work directly in this Jupyter notebook, or you might like to start over with a new file!  You can see the list of files in the workspace by clicking on **_Jupyter_** in the top left corner of the notebook.\n",
    "- In this coding environment, you will not be able to watch the agents while they are training.  However, **_after training the agents_**, you can download the saved model weights to watch the agents on your own machine! "
   ]
  },
  {
   "cell_type": "code",
   "execution_count": 7,
   "metadata": {},
   "outputs": [],
   "source": [
    "# !pip install regex"
   ]
  },
  {
   "cell_type": "code",
   "execution_count": 8,
   "metadata": {},
   "outputs": [],
   "source": [
    "# from ddpg_agent import Agent\n",
    "from ddpg_agent import Agent\n",
    "import os\n",
    "import regex\n",
    "from collections import deque\n",
    "import torch\n",
    "import matplotlib.pyplot as plt\n",
    "%matplotlib inline"
   ]
  },
  {
   "cell_type": "code",
   "execution_count": 9,
   "metadata": {},
   "outputs": [],
   "source": [
    "def save_file(project_name, ext=\"pth\"):\n",
    "    file_number = []\n",
    "    for file in os.listdir():\n",
    "        if regex.match(r\"{}\".format(\"{}.*.{}\".format(project_name, ext)), file):\n",
    "            extract = regex.search(r'[0-9][0-9]', file)\n",
    "            if file[extract.span()[0]] == \"0\":\n",
    "                file_number.append(int(file[extract.span()[1]-1]))\n",
    "            else:\n",
    "                file_number.append(int(\"{}{}\".format(file[extract.span()[0]],file[extract.span()[1]-1])))\n",
    "            \n",
    "            file_number.sort()\n",
    "            file_number.reverse()\n",
    "#             print(file_number)\n",
    "            \n",
    "            if file_number[0] < 9:\n",
    "                file_name = \"{}_0{}.{}\".format(project_name, file_number[0]+1, ext)\n",
    "            else:\n",
    "                file_name = \"{}_{}.{}\".format(project_name, file_number[0]+1, ext)\n",
    "\n",
    "    if len(file_number) == 0:\n",
    "        file_name = \"{}_00.{}\".format(project_name, ext)\n",
    "    \n",
    "    print(\"Latest file name should be {}\".format(file_name))\n",
    "    return file_name"
   ]
  },
  {
   "cell_type": "code",
   "execution_count": 10,
   "metadata": {},
   "outputs": [],
   "source": [
    "seed = 1 # Seed for random control\n",
    "agent = Agent(state_size, action_size, seed, num_agents)"
   ]
  },
  {
   "cell_type": "code",
   "execution_count": 11,
   "metadata": {},
   "outputs": [],
   "source": [
    "def ddpg(n_episodes=300, max_t=1000):\n",
    "    \n",
    "    scores_deque = deque(maxlen=100)\n",
    "    scores = []\n",
    "    BATCH_SIZE = 128\n",
    "    actor_pth = save_file(\"p2_cc_actor\", ext=\"pth\")\n",
    "    critic_pth = save_file(\"p2_cc_critic\", ext=\"pth\")\n",
    "    scored_hit = False\n",
    "    \n",
    "    for i_episode in range(1, n_episodes+1):\n",
    "        env_info = env.reset(train_mode=True)[brain_name]      # reset the environment    \n",
    "        states = env_info.vector_observations                  # get the current state (for each agent)\n",
    "        agent.reset()\n",
    "        score = np.zeros(num_agents)                           # initialize the score (for each agent)\n",
    "        for t in range(max_t):\n",
    "#         while True:\n",
    "            actions = agent.act(states)                        # select an action (for each agent)\n",
    "            env_info = env.step(actions)[brain_name]           # send all actions to tne environment\n",
    "            next_states = env_info.vector_observations         # get next state (for each agent)\n",
    "            rewards = env_info.rewards                         # get reward (for each agent)\n",
    "            dones = env_info.local_done                        # see if episode finished\n",
    "            agent.step(states, actions, rewards, next_states, dones, t)\n",
    "            score += env_info.rewards                          # update the score (for each agent)\n",
    "            states = next_states                               # roll over states to next time step\n",
    "            if np.any(dones):                                  # exit loop if episode finished\n",
    "                break\n",
    "        \n",
    "        avg_scores = np.mean(score)\n",
    "        scores_deque.append(avg_scores)\n",
    "        scores.append(avg_scores)\n",
    "        \n",
    "        if scored_hit == False:\n",
    "            print('\\rEpisode {}\\tAverage Score: {:.2f}\\tScore: {:.2f}'.format(i_episode, np.mean(scores_deque), np.mean(score)))\n",
    "        \n",
    "        elif avg_scores >= 30 and scored_hit == False:\n",
    "            print('\\rThe CC has reached 30 avg score at Episode {} with Average Score: {:.2f}'.format(i_episode, np.mean(scores_deque)))\n",
    "            scored_hit == True\n",
    "            \n",
    "        else:\n",
    "            print('\\rEpisode {}\\tAverage Score: {:.2f}\\tScore: {:.2f}'.format(i_episode, np.mean(scores_deque), np.mean(score)), end=\"\")\n",
    "            if i_episode % 10 == 0:\n",
    "                print('\\rEpisode {}\\tAverage Score: {:.2f}\\tScore: {:.2f}'.format(i_episode, np.mean(scores_deque), np.mean(score)))\n",
    "                \n",
    "        if np.mean(scores_deque) >= 30 and len(scores_deque) == 100 and min(scores_deque) >=30:\n",
    "            print('\\rThe CC is solved at Episode {} with Average Score: {:.2f}!'.format(i_episode, np.mean(scores_deque)))\n",
    "            torch.save(agent.actor_local.state_dict(), actor_pth)\n",
    "            torch.save(agent.critic_local.state_dict(), critic_pth)\n",
    "            \n",
    "            # Save the scores\n",
    "            fo = open(save_file(\"p2_cc_score\", ext = \"txt\"), \"w\")\n",
    "            fo.writelines(str(scores))\n",
    "            fo.close()\n",
    "\n",
    "            fig = plt.figure()\n",
    "            ax = fig.add_subplot(111)\n",
    "            plt.plot(np.arange(1, len(scores)+1), scores)\n",
    "            plt.ylabel('Score')\n",
    "            plt.xlabel('Episode #')\n",
    "            plt.savefig('{}'.format(save_file(\"p2_cc_score_plt\", ext=\"png\")))\n",
    "            plt.show()\n",
    "\n",
    "            return scores\n",
    "        \n",
    "    # At the end of training with no luck\n",
    "    print(\"No luck in solving the CC problem with {} episode\".format(n_episodes))\n",
    "    return scores"
   ]
  },
  {
   "cell_type": "code",
   "execution_count": 12,
   "metadata": {},
   "outputs": [
    {
     "name": "stdout",
     "output_type": "stream",
     "text": [
      "Latest file name should be p2_cc_actor_01.pth\n",
      "Latest file name should be p2_cc_critic_01.pth\n"
     ]
    },
    {
     "name": "stderr",
     "output_type": "stream",
     "text": [
      "C:\\Users\\root\\AppData\\Local\\conda\\conda\\envs\\drlnd\\lib\\site-packages\\torch\\nn\\functional.py:995: UserWarning: nn.functional.tanh is deprecated. Use torch.tanh instead.\n",
      "  warnings.warn(\"nn.functional.tanh is deprecated. Use torch.tanh instead.\")\n",
      "C:\\Users\\root\\udacity\\p2_continuous-control-master\\ddpg_agent.py:129: UserWarning: torch.nn.utils.clip_grad_norm is now deprecated in favor of torch.nn.utils.clip_grad_norm_.\n",
      "  torch.nn.utils.clip_grad_norm(self.critic_local.parameters(), 1.0) #clip the gradient for the critic network (Udacity hint)\n"
     ]
    },
    {
     "name": "stdout",
     "output_type": "stream",
     "text": [
      "Episode 1\tAverage Score: 0.53\tScore: 0.53\n",
      "Episode 2\tAverage Score: 0.60\tScore: 0.68\n",
      "Episode 3\tAverage Score: 0.74\tScore: 1.01\n",
      "Episode 4\tAverage Score: 0.77\tScore: 0.88\n",
      "Episode 5\tAverage Score: 0.87\tScore: 1.26\n",
      "Episode 6\tAverage Score: 1.05\tScore: 1.95\n",
      "Episode 7\tAverage Score: 1.29\tScore: 2.73\n",
      "Episode 8\tAverage Score: 1.54\tScore: 3.27\n",
      "Episode 9\tAverage Score: 1.75\tScore: 3.46\n",
      "Episode 10\tAverage Score: 2.04\tScore: 4.64\n",
      "Episode 11\tAverage Score: 2.24\tScore: 4.23\n",
      "Episode 12\tAverage Score: 2.57\tScore: 6.17\n",
      "Episode 13\tAverage Score: 2.95\tScore: 7.49\n",
      "Episode 14\tAverage Score: 3.32\tScore: 8.19\n",
      "Episode 15\tAverage Score: 3.93\tScore: 12.50\n",
      "Episode 16\tAverage Score: 4.79\tScore: 17.72\n",
      "Episode 17\tAverage Score: 5.77\tScore: 21.31\n",
      "Episode 18\tAverage Score: 6.91\tScore: 26.39\n",
      "Episode 19\tAverage Score: 8.24\tScore: 32.07\n",
      "Episode 20\tAverage Score: 9.49\tScore: 33.37\n",
      "Episode 21\tAverage Score: 10.83\tScore: 37.58\n",
      "Episode 22\tAverage Score: 11.97\tScore: 35.84\n",
      "Episode 23\tAverage Score: 13.08\tScore: 37.50\n",
      "Episode 24\tAverage Score: 14.09\tScore: 37.31\n",
      "Episode 25\tAverage Score: 15.07\tScore: 38.74\n",
      "Episode 26\tAverage Score: 15.97\tScore: 38.41\n",
      "Episode 27\tAverage Score: 16.83\tScore: 39.08\n",
      "Episode 28\tAverage Score: 17.61\tScore: 38.63\n",
      "Episode 29\tAverage Score: 18.36\tScore: 39.48\n",
      "Episode 30\tAverage Score: 19.04\tScore: 38.75\n",
      "Episode 31\tAverage Score: 19.54\tScore: 34.52\n",
      "Episode 32\tAverage Score: 20.04\tScore: 35.74\n",
      "Episode 33\tAverage Score: 20.51\tScore: 35.54\n",
      "Episode 34\tAverage Score: 20.98\tScore: 36.31\n",
      "Episode 35\tAverage Score: 21.45\tScore: 37.29\n",
      "Episode 36\tAverage Score: 21.89\tScore: 37.57\n",
      "Episode 37\tAverage Score: 22.35\tScore: 38.64\n",
      "Episode 38\tAverage Score: 22.77\tScore: 38.55\n",
      "Episode 39\tAverage Score: 23.15\tScore: 37.43\n",
      "Episode 40\tAverage Score: 23.52\tScore: 37.93\n",
      "Episode 41\tAverage Score: 23.86\tScore: 37.49\n",
      "Episode 42\tAverage Score: 24.17\tScore: 37.11\n",
      "Episode 43\tAverage Score: 24.47\tScore: 36.98\n",
      "Episode 44\tAverage Score: 24.74\tScore: 36.39\n",
      "Episode 45\tAverage Score: 25.05\tScore: 38.49\n",
      "Episode 46\tAverage Score: 25.35\tScore: 38.84\n",
      "Episode 47\tAverage Score: 25.60\tScore: 37.33\n",
      "Episode 48\tAverage Score: 25.84\tScore: 37.01\n",
      "Episode 49\tAverage Score: 26.06\tScore: 36.75\n",
      "Episode 50\tAverage Score: 26.30\tScore: 37.97\n",
      "Episode 51\tAverage Score: 26.51\tScore: 37.18\n",
      "Episode 52\tAverage Score: 26.72\tScore: 37.41\n",
      "Episode 53\tAverage Score: 26.92\tScore: 37.00\n",
      "Episode 54\tAverage Score: 27.11\tScore: 37.13\n",
      "Episode 55\tAverage Score: 27.30\tScore: 37.65\n",
      "Episode 56\tAverage Score: 27.49\tScore: 37.95\n",
      "Episode 57\tAverage Score: 27.63\tScore: 35.47\n",
      "Episode 58\tAverage Score: 27.81\tScore: 38.30\n",
      "Episode 59\tAverage Score: 27.99\tScore: 38.51\n",
      "Episode 60\tAverage Score: 28.17\tScore: 38.52\n",
      "Episode 61\tAverage Score: 28.33\tScore: 37.92\n",
      "Episode 62\tAverage Score: 28.49\tScore: 38.57\n",
      "Episode 63\tAverage Score: 28.63\tScore: 36.98\n",
      "Episode 64\tAverage Score: 28.75\tScore: 36.13\n",
      "Episode 65\tAverage Score: 28.88\tScore: 37.44\n",
      "Episode 66\tAverage Score: 29.02\tScore: 37.92\n",
      "Episode 67\tAverage Score: 29.15\tScore: 38.23\n",
      "Episode 68\tAverage Score: 29.29\tScore: 38.30\n",
      "Episode 69\tAverage Score: 29.40\tScore: 36.70\n",
      "Episode 70\tAverage Score: 29.50\tScore: 36.29\n",
      "Episode 71\tAverage Score: 29.60\tScore: 37.04\n",
      "Episode 72\tAverage Score: 29.71\tScore: 37.59\n",
      "Episode 73\tAverage Score: 29.82\tScore: 37.88\n",
      "Episode 74\tAverage Score: 29.93\tScore: 37.75\n",
      "Episode 75\tAverage Score: 30.04\tScore: 38.23\n",
      "Episode 76\tAverage Score: 30.13\tScore: 37.04\n",
      "Episode 77\tAverage Score: 30.24\tScore: 38.53\n",
      "Episode 78\tAverage Score: 30.34\tScore: 37.53\n",
      "Episode 79\tAverage Score: 30.43\tScore: 37.35\n",
      "Episode 80\tAverage Score: 30.51\tScore: 37.18\n",
      "Episode 81\tAverage Score: 30.59\tScore: 36.99\n",
      "Episode 82\tAverage Score: 30.67\tScore: 37.44\n",
      "Episode 83\tAverage Score: 30.76\tScore: 37.48\n",
      "Episode 84\tAverage Score: 30.84\tScore: 37.72\n",
      "Episode 85\tAverage Score: 30.93\tScore: 38.67\n",
      "Episode 86\tAverage Score: 31.01\tScore: 37.42\n",
      "Episode 87\tAverage Score: 31.08\tScore: 37.59\n",
      "Episode 88\tAverage Score: 31.15\tScore: 37.36\n",
      "Episode 89\tAverage Score: 31.23\tScore: 38.26\n",
      "Episode 90\tAverage Score: 31.30\tScore: 36.87\n",
      "Episode 91\tAverage Score: 31.35\tScore: 36.58\n",
      "Episode 92\tAverage Score: 31.43\tScore: 38.06\n",
      "Episode 93\tAverage Score: 31.49\tScore: 37.36\n",
      "Episode 94\tAverage Score: 31.55\tScore: 37.05\n",
      "Episode 95\tAverage Score: 31.61\tScore: 37.68\n",
      "Episode 96\tAverage Score: 31.68\tScore: 37.72\n",
      "Episode 97\tAverage Score: 31.73\tScore: 37.13\n",
      "Episode 98\tAverage Score: 31.79\tScore: 37.50\n",
      "Episode 99\tAverage Score: 31.86\tScore: 37.97\n",
      "Episode 100\tAverage Score: 31.90\tScore: 36.66\n",
      "Episode 101\tAverage Score: 32.26\tScore: 36.32\n",
      "Episode 102\tAverage Score: 32.64\tScore: 38.47\n",
      "Episode 103\tAverage Score: 33.02\tScore: 38.84\n",
      "Episode 104\tAverage Score: 33.38\tScore: 37.63\n",
      "Episode 105\tAverage Score: 33.75\tScore: 37.63\n",
      "Episode 106\tAverage Score: 34.11\tScore: 37.71\n",
      "Episode 107\tAverage Score: 34.46\tScore: 37.75\n",
      "Episode 108\tAverage Score: 34.80\tScore: 37.63\n",
      "Episode 109\tAverage Score: 35.15\tScore: 38.93\n",
      "Episode 110\tAverage Score: 35.49\tScore: 38.43\n",
      "Episode 111\tAverage Score: 35.83\tScore: 38.11\n",
      "Episode 112\tAverage Score: 36.15\tScore: 37.89\n",
      "Episode 113\tAverage Score: 36.44\tScore: 36.98\n",
      "Episode 114\tAverage Score: 36.73\tScore: 36.49\n",
      "Episode 115\tAverage Score: 36.97\tScore: 36.96\n",
      "Episode 116\tAverage Score: 37.17\tScore: 38.06\n",
      "Episode 117\tAverage Score: 37.35\tScore: 38.55\n",
      "Episode 118\tAverage Score: 37.46\tScore: 38.10\n",
      "The CC is solved at Episode 118 with Average Score: 37.46!\n",
      "Latest file name should be p2_cc_score_01.txt\n",
      "Latest file name should be p2_cc_score_plt_01.png\n"
     ]
    },
    {
     "data": {
      "image/png": "[encoded data removed]",
      "text/plain": [
       "<Figure size 432x288 with 1 Axes>"
      ]
     },
     "metadata": {
      "needs_background": "light"
     },
     "output_type": "display_data"
    }
   ],
   "source": [
    "scores = ddpg()"
   ]
  },
  {
   "cell_type": "markdown",
   "metadata": {},
   "source": [
    "### 4. Watch how a smart agent play"
   ]
  },
  {
   "cell_type": "code",
   "execution_count": 14,
   "metadata": {},
   "outputs": [
    {
     "name": "stdout",
     "output_type": "stream",
     "text": [
      "Total score (averaged over agents) this episode: 38.61399913690984\n"
     ]
    }
   ],
   "source": [
    "agent = Agent(state_size, action_size, seed, num_agents)\n",
    "agent.actor_local.load_state_dict(torch.load('p2_cc_actor_01.pth'))\n",
    "agent.critic_local.load_state_dict(torch.load('p2_cc_critic_01.pth'))\n",
    "\n",
    "env_info = env.reset(train_mode=False)[brain_name]      # reset the environment    \n",
    "states = env_info.vector_observations                  # get the current state (for each agent)\n",
    "scores = np.zeros(num_agents)                          # initialize the score (for each agent)\n",
    "while True:\n",
    "    actions = agent.act(states)                        # select an action (for each agent)\n",
    "    env_info = env.step(actions)[brain_name]           # send all actions to tne environment\n",
    "    next_states = env_info.vector_observations         # get next state (for each agent)\n",
    "    rewards = env_info.rewards                         # get reward (for each agent)\n",
    "    dones = env_info.local_done                        # see if episode finished\n",
    "    scores += env_info.rewards                         # update the score (for each agent)\n",
    "    states = next_states                               # roll over states to next time step\n",
    "    if np.any(dones):                                  # exit loop if episode finished\n",
    "        break\n",
    "print('Total score (averaged over agents) this episode: {}'.format(np.mean(scores)))"
   ]
  },
  {
   "cell_type": "code",
   "execution_count": 15,
   "metadata": {},
   "outputs": [],
   "source": [
    "env.close()"
   ]
  }
 ],
 "metadata": {
  "kernelspec": {
   "display_name": "drlnd",
   "language": "python",
   "name": "drlnd"
  },
  "language_info": {
   "codemirror_mode": {
    "name": "ipython",
    "version": 3
   },
   "file_extension": ".py",
   "mimetype": "text/x-python",
   "name": "python",
   "nbconvert_exporter": "python",
   "pygments_lexer": "ipython3",
   "version": "3.6.6"
  }
 },
 "nbformat": 4,
 "nbformat_minor": 2
}
